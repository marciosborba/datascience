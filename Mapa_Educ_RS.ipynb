{
 "cells": [
  {
   "cell_type": "markdown",
   "metadata": {},
   "source": [
    "# Mapa da Eduacação RS"
   ]
  },
  {
   "cell_type": "code",
   "execution_count": 1,
   "metadata": {},
   "outputs": [
    {
     "name": "stdout",
     "output_type": "stream",
     "text": [
      "Collecting folium\n",
      "  Downloading https://files.pythonhosted.org/packages/72/ff/004bfe344150a064e558cb2aedeaa02ecbf75e60e148a55a9198f0c41765/folium-0.10.0-py2.py3-none-any.whl (91kB)\n",
      "Requirement already satisfied: numpy in c:\\users\\marcio\\anaconda3\\lib\\site-packages (from folium) (1.16.4)\n",
      "Collecting branca>=0.3.0 (from folium)\n",
      "  Downloading https://files.pythonhosted.org/packages/63/36/1c93318e9653f4e414a2e0c3b98fc898b4970e939afeedeee6075dd3b703/branca-0.3.1-py3-none-any.whl\n",
      "Requirement already satisfied: requests in c:\\users\\marcio\\anaconda3\\lib\\site-packages (from folium) (2.22.0)\n",
      "Requirement already satisfied: jinja2>=2.9 in c:\\users\\marcio\\anaconda3\\lib\\site-packages (from folium) (2.10.1)\n",
      "Requirement already satisfied: six in c:\\users\\marcio\\anaconda3\\lib\\site-packages (from branca>=0.3.0->folium) (1.12.0)\n",
      "Requirement already satisfied: idna<2.9,>=2.5 in c:\\users\\marcio\\anaconda3\\lib\\site-packages (from requests->folium) (2.8)\n",
      "Requirement already satisfied: certifi>=2017.4.17 in c:\\users\\marcio\\anaconda3\\lib\\site-packages (from requests->folium) (2019.6.16)\n",
      "Requirement already satisfied: chardet<3.1.0,>=3.0.2 in c:\\users\\marcio\\anaconda3\\lib\\site-packages (from requests->folium) (3.0.4)\n",
      "Requirement already satisfied: urllib3!=1.25.0,!=1.25.1,<1.26,>=1.21.1 in c:\\users\\marcio\\anaconda3\\lib\\site-packages (from requests->folium) (1.24.2)\n",
      "Requirement already satisfied: MarkupSafe>=0.23 in c:\\users\\marcio\\anaconda3\\lib\\site-packages (from jinja2>=2.9->folium) (1.1.1)\n",
      "Installing collected packages: branca, folium\n",
      "Successfully installed branca-0.3.1 folium-0.10.0\n"
     ]
    }
   ],
   "source": [
    "# Para instalar um pacote, usa-se pip (python install package) (!) se utiliza para comando de install direto no jupyter\n",
    "\n",
    "!pip install folium\n"
   ]
  },
  {
   "cell_type": "code",
   "execution_count": 2,
   "metadata": {},
   "outputs": [],
   "source": [
    "# Importando as bibliotecas\n",
    "\n",
    "import pandas as pd\n",
    "\n",
    "import folium\n",
    "\n",
    "%matplotlib inline"
   ]
  },
  {
   "cell_type": "code",
   "execution_count": 8,
   "metadata": {},
   "outputs": [
    {
     "data": {
      "text/html": [
       "<div>\n",
       "<style scoped>\n",
       "    .dataframe tbody tr th:only-of-type {\n",
       "        vertical-align: middle;\n",
       "    }\n",
       "\n",
       "    .dataframe tbody tr th {\n",
       "        vertical-align: top;\n",
       "    }\n",
       "\n",
       "    .dataframe thead th {\n",
       "        text-align: right;\n",
       "    }\n",
       "</style>\n",
       "<table border=\"1\" class=\"dataframe\">\n",
       "  <thead>\n",
       "    <tr style=\"text-align: right;\">\n",
       "      <th></th>\n",
       "      <th>Município</th>\n",
       "      <th>ibge</th>\n",
       "      <th>latitude</th>\n",
       "      <th>longitude</th>\n",
       "      <th>/Educação/Ens...de Série/Total 2013 (-)</th>\n",
       "    </tr>\n",
       "  </thead>\n",
       "  <tbody>\n",
       "    <tr>\n",
       "      <th>0</th>\n",
       "      <td>Aceguá</td>\n",
       "      <td>4300034</td>\n",
       "      <td>-31.86076</td>\n",
       "      <td>-54.16706</td>\n",
       "      <td>25,7</td>\n",
       "    </tr>\n",
       "    <tr>\n",
       "      <th>1</th>\n",
       "      <td>Água Santa</td>\n",
       "      <td>4300059</td>\n",
       "      <td>-28.16720</td>\n",
       "      <td>-52.03100</td>\n",
       "      <td>14,7</td>\n",
       "    </tr>\n",
       "    <tr>\n",
       "      <th>2</th>\n",
       "      <td>Agudo</td>\n",
       "      <td>4300109</td>\n",
       "      <td>-29.64470</td>\n",
       "      <td>-53.25150</td>\n",
       "      <td>26,4</td>\n",
       "    </tr>\n",
       "    <tr>\n",
       "      <th>3</th>\n",
       "      <td>Ajuricaba</td>\n",
       "      <td>4300208</td>\n",
       "      <td>-28.23420</td>\n",
       "      <td>-53.77570</td>\n",
       "      <td>24,1</td>\n",
       "    </tr>\n",
       "    <tr>\n",
       "      <th>4</th>\n",
       "      <td>Alecrim</td>\n",
       "      <td>4300307</td>\n",
       "      <td>-27.65790</td>\n",
       "      <td>-54.76490</td>\n",
       "      <td>18,9</td>\n",
       "    </tr>\n",
       "  </tbody>\n",
       "</table>\n",
       "</div>"
      ],
      "text/plain": [
       "    Município     ibge  latitude  longitude  \\\n",
       "0      Aceguá  4300034 -31.86076  -54.16706   \n",
       "1  Água Santa  4300059 -28.16720  -52.03100   \n",
       "2       Agudo  4300109 -29.64470  -53.25150   \n",
       "3   Ajuricaba  4300208 -28.23420  -53.77570   \n",
       "4     Alecrim  4300307 -27.65790  -54.76490   \n",
       "\n",
       "  /Educação/Ens...de Série/Total 2013 (-)  \n",
       "0                                    25,7  \n",
       "1                                    14,7  \n",
       "2                                    26,4  \n",
       "3                                    24,1  \n",
       "4                                    18,9  "
      ]
     },
     "execution_count": 8,
     "metadata": {},
     "output_type": "execute_result"
    }
   ],
   "source": [
    "# Carregar o arquivo\n",
    "\n",
    "df = pd.read_csv('Educ_rs.csv', encoding='latin1', skiprows=1)\n",
    "\n",
    "df.head()"
   ]
  },
  {
   "cell_type": "code",
   "execution_count": 11,
   "metadata": {},
   "outputs": [],
   "source": [
    "# Renomear o nome de uma coluna\n",
    "\n",
    "df.rename(columns={'/Educação/Ens...de Série/Total 2013 (-)' : 'Taxa Distorção'}, inplace=True)\n",
    "\n"
   ]
  },
  {
   "cell_type": "code",
   "execution_count": 12,
   "metadata": {},
   "outputs": [
    {
     "data": {
      "text/html": [
       "<div>\n",
       "<style scoped>\n",
       "    .dataframe tbody tr th:only-of-type {\n",
       "        vertical-align: middle;\n",
       "    }\n",
       "\n",
       "    .dataframe tbody tr th {\n",
       "        vertical-align: top;\n",
       "    }\n",
       "\n",
       "    .dataframe thead th {\n",
       "        text-align: right;\n",
       "    }\n",
       "</style>\n",
       "<table border=\"1\" class=\"dataframe\">\n",
       "  <thead>\n",
       "    <tr style=\"text-align: right;\">\n",
       "      <th></th>\n",
       "      <th>Município</th>\n",
       "      <th>ibge</th>\n",
       "      <th>latitude</th>\n",
       "      <th>longitude</th>\n",
       "      <th>Taxa Distorção</th>\n",
       "    </tr>\n",
       "  </thead>\n",
       "  <tbody>\n",
       "    <tr>\n",
       "      <th>0</th>\n",
       "      <td>Aceguá</td>\n",
       "      <td>4300034</td>\n",
       "      <td>-31.86076</td>\n",
       "      <td>-54.16706</td>\n",
       "      <td>25,7</td>\n",
       "    </tr>\n",
       "    <tr>\n",
       "      <th>1</th>\n",
       "      <td>Água Santa</td>\n",
       "      <td>4300059</td>\n",
       "      <td>-28.16720</td>\n",
       "      <td>-52.03100</td>\n",
       "      <td>14,7</td>\n",
       "    </tr>\n",
       "    <tr>\n",
       "      <th>2</th>\n",
       "      <td>Agudo</td>\n",
       "      <td>4300109</td>\n",
       "      <td>-29.64470</td>\n",
       "      <td>-53.25150</td>\n",
       "      <td>26,4</td>\n",
       "    </tr>\n",
       "    <tr>\n",
       "      <th>3</th>\n",
       "      <td>Ajuricaba</td>\n",
       "      <td>4300208</td>\n",
       "      <td>-28.23420</td>\n",
       "      <td>-53.77570</td>\n",
       "      <td>24,1</td>\n",
       "    </tr>\n",
       "    <tr>\n",
       "      <th>4</th>\n",
       "      <td>Alecrim</td>\n",
       "      <td>4300307</td>\n",
       "      <td>-27.65790</td>\n",
       "      <td>-54.76490</td>\n",
       "      <td>18,9</td>\n",
       "    </tr>\n",
       "  </tbody>\n",
       "</table>\n",
       "</div>"
      ],
      "text/plain": [
       "    Município     ibge  latitude  longitude Taxa Distorção\n",
       "0      Aceguá  4300034 -31.86076  -54.16706           25,7\n",
       "1  Água Santa  4300059 -28.16720  -52.03100           14,7\n",
       "2       Agudo  4300109 -29.64470  -53.25150           26,4\n",
       "3   Ajuricaba  4300208 -28.23420  -53.77570           24,1\n",
       "4     Alecrim  4300307 -27.65790  -54.76490           18,9"
      ]
     },
     "execution_count": 12,
     "metadata": {},
     "output_type": "execute_result"
    }
   ],
   "source": [
    "df.head()"
   ]
  },
  {
   "cell_type": "code",
   "execution_count": 13,
   "metadata": {},
   "outputs": [
    {
     "name": "stdout",
     "output_type": "stream",
     "text": [
      "<class 'pandas.core.frame.DataFrame'>\n",
      "RangeIndex: 495 entries, 0 to 494\n",
      "Data columns (total 5 columns):\n",
      "Município         495 non-null object\n",
      "ibge              495 non-null int64\n",
      "latitude          495 non-null float64\n",
      "longitude         495 non-null float64\n",
      "Taxa Distorção    495 non-null object\n",
      "dtypes: float64(2), int64(1), object(2)\n",
      "memory usage: 19.4+ KB\n"
     ]
    }
   ],
   "source": [
    "# Verificando o DataFrame\n",
    "\n",
    "df.info()"
   ]
  },
  {
   "cell_type": "code",
   "execution_count": 15,
   "metadata": {},
   "outputs": [],
   "source": [
    "# Vamos Converter a coluna Taxa Distorção por float\n",
    "\n",
    "# Primeiro trocamos a virgula por ponto\n",
    "# Obs: poderiamos informar no carregamento do arquivo (decimal=',')\n",
    "\n",
    "\n",
    "df['Taxa Distorção'] = df['Taxa Distorção'].str.replace(',','.')"
   ]
  },
  {
   "cell_type": "code",
   "execution_count": 16,
   "metadata": {},
   "outputs": [
    {
     "data": {
      "text/html": [
       "<div>\n",
       "<style scoped>\n",
       "    .dataframe tbody tr th:only-of-type {\n",
       "        vertical-align: middle;\n",
       "    }\n",
       "\n",
       "    .dataframe tbody tr th {\n",
       "        vertical-align: top;\n",
       "    }\n",
       "\n",
       "    .dataframe thead th {\n",
       "        text-align: right;\n",
       "    }\n",
       "</style>\n",
       "<table border=\"1\" class=\"dataframe\">\n",
       "  <thead>\n",
       "    <tr style=\"text-align: right;\">\n",
       "      <th></th>\n",
       "      <th>Município</th>\n",
       "      <th>ibge</th>\n",
       "      <th>latitude</th>\n",
       "      <th>longitude</th>\n",
       "      <th>Taxa Distorção</th>\n",
       "    </tr>\n",
       "  </thead>\n",
       "  <tbody>\n",
       "    <tr>\n",
       "      <th>0</th>\n",
       "      <td>Aceguá</td>\n",
       "      <td>4300034</td>\n",
       "      <td>-31.86076</td>\n",
       "      <td>-54.16706</td>\n",
       "      <td>25.7</td>\n",
       "    </tr>\n",
       "    <tr>\n",
       "      <th>1</th>\n",
       "      <td>Água Santa</td>\n",
       "      <td>4300059</td>\n",
       "      <td>-28.16720</td>\n",
       "      <td>-52.03100</td>\n",
       "      <td>14.7</td>\n",
       "    </tr>\n",
       "    <tr>\n",
       "      <th>2</th>\n",
       "      <td>Agudo</td>\n",
       "      <td>4300109</td>\n",
       "      <td>-29.64470</td>\n",
       "      <td>-53.25150</td>\n",
       "      <td>26.4</td>\n",
       "    </tr>\n",
       "    <tr>\n",
       "      <th>3</th>\n",
       "      <td>Ajuricaba</td>\n",
       "      <td>4300208</td>\n",
       "      <td>-28.23420</td>\n",
       "      <td>-53.77570</td>\n",
       "      <td>24.1</td>\n",
       "    </tr>\n",
       "    <tr>\n",
       "      <th>4</th>\n",
       "      <td>Alecrim</td>\n",
       "      <td>4300307</td>\n",
       "      <td>-27.65790</td>\n",
       "      <td>-54.76490</td>\n",
       "      <td>18.9</td>\n",
       "    </tr>\n",
       "  </tbody>\n",
       "</table>\n",
       "</div>"
      ],
      "text/plain": [
       "    Município     ibge  latitude  longitude Taxa Distorção\n",
       "0      Aceguá  4300034 -31.86076  -54.16706           25.7\n",
       "1  Água Santa  4300059 -28.16720  -52.03100           14.7\n",
       "2       Agudo  4300109 -29.64470  -53.25150           26.4\n",
       "3   Ajuricaba  4300208 -28.23420  -53.77570           24.1\n",
       "4     Alecrim  4300307 -27.65790  -54.76490           18.9"
      ]
     },
     "execution_count": 16,
     "metadata": {},
     "output_type": "execute_result"
    }
   ],
   "source": [
    "df.head()"
   ]
  },
  {
   "cell_type": "code",
   "execution_count": 17,
   "metadata": {},
   "outputs": [],
   "source": [
    "# Agora sim podemos fazer a conversão de objetc para float \n",
    "\n",
    "df['Taxa Distorção'] = df['Taxa Distorção'].astype(float)"
   ]
  },
  {
   "cell_type": "code",
   "execution_count": 19,
   "metadata": {},
   "outputs": [
    {
     "name": "stdout",
     "output_type": "stream",
     "text": [
      "<class 'pandas.core.frame.DataFrame'>\n",
      "RangeIndex: 495 entries, 0 to 494\n",
      "Data columns (total 5 columns):\n",
      "Município         495 non-null object\n",
      "ibge              495 non-null int64\n",
      "latitude          495 non-null float64\n",
      "longitude         495 non-null float64\n",
      "Taxa Distorção    495 non-null float64\n",
      "dtypes: float64(3), int64(1), object(1)\n",
      "memory usage: 19.4+ KB\n"
     ]
    }
   ],
   "source": [
    "df.info()"
   ]
  },
  {
   "cell_type": "code",
   "execution_count": 20,
   "metadata": {},
   "outputs": [
    {
     "data": {
      "text/html": [
       "<div>\n",
       "<style scoped>\n",
       "    .dataframe tbody tr th:only-of-type {\n",
       "        vertical-align: middle;\n",
       "    }\n",
       "\n",
       "    .dataframe tbody tr th {\n",
       "        vertical-align: top;\n",
       "    }\n",
       "\n",
       "    .dataframe thead th {\n",
       "        text-align: right;\n",
       "    }\n",
       "</style>\n",
       "<table border=\"1\" class=\"dataframe\">\n",
       "  <thead>\n",
       "    <tr style=\"text-align: right;\">\n",
       "      <th></th>\n",
       "      <th>Município</th>\n",
       "      <th>ibge</th>\n",
       "      <th>latitude</th>\n",
       "      <th>longitude</th>\n",
       "      <th>Taxa Distorção</th>\n",
       "    </tr>\n",
       "  </thead>\n",
       "  <tbody>\n",
       "    <tr>\n",
       "      <th>490</th>\n",
       "      <td>Vista Alegre do Prata</td>\n",
       "      <td>4323606</td>\n",
       "      <td>-28.8052</td>\n",
       "      <td>-51.7946</td>\n",
       "      <td>2.6</td>\n",
       "    </tr>\n",
       "    <tr>\n",
       "      <th>375</th>\n",
       "      <td>Santo Antônio do Palma</td>\n",
       "      <td>4317558</td>\n",
       "      <td>-28.4956</td>\n",
       "      <td>-52.0267</td>\n",
       "      <td>4.3</td>\n",
       "    </tr>\n",
       "    <tr>\n",
       "      <th>28</th>\n",
       "      <td>Áurea</td>\n",
       "      <td>4301552</td>\n",
       "      <td>-27.6936</td>\n",
       "      <td>-52.0505</td>\n",
       "      <td>5.8</td>\n",
       "    </tr>\n",
       "    <tr>\n",
       "      <th>268</th>\n",
       "      <td>Nicolau Vergueiro</td>\n",
       "      <td>4312674</td>\n",
       "      <td>-28.5298</td>\n",
       "      <td>-52.4676</td>\n",
       "      <td>7.0</td>\n",
       "    </tr>\n",
       "    <tr>\n",
       "      <th>128</th>\n",
       "      <td>Derrubadas</td>\n",
       "      <td>4306320</td>\n",
       "      <td>-27.2642</td>\n",
       "      <td>-53.8645</td>\n",
       "      <td>7.4</td>\n",
       "    </tr>\n",
       "    <tr>\n",
       "      <th>119</th>\n",
       "      <td>Cotiporã</td>\n",
       "      <td>4305959</td>\n",
       "      <td>-28.9891</td>\n",
       "      <td>-51.6971</td>\n",
       "      <td>7.5</td>\n",
       "    </tr>\n",
       "    <tr>\n",
       "      <th>68</th>\n",
       "      <td>Campestre da Serra</td>\n",
       "      <td>4303673</td>\n",
       "      <td>-28.7926</td>\n",
       "      <td>-51.0941</td>\n",
       "      <td>7.6</td>\n",
       "    </tr>\n",
       "    <tr>\n",
       "      <th>476</th>\n",
       "      <td>Vanini</td>\n",
       "      <td>4322558</td>\n",
       "      <td>-28.4758</td>\n",
       "      <td>-51.8447</td>\n",
       "      <td>7.8</td>\n",
       "    </tr>\n",
       "    <tr>\n",
       "      <th>236</th>\n",
       "      <td>Linha Nova</td>\n",
       "      <td>4311643</td>\n",
       "      <td>-29.4679</td>\n",
       "      <td>-51.2003</td>\n",
       "      <td>8.0</td>\n",
       "    </tr>\n",
       "    <tr>\n",
       "      <th>392</th>\n",
       "      <td>São José do Inhacorá</td>\n",
       "      <td>4318499</td>\n",
       "      <td>-27.7251</td>\n",
       "      <td>-54.1275</td>\n",
       "      <td>8.0</td>\n",
       "    </tr>\n",
       "  </tbody>\n",
       "</table>\n",
       "</div>"
      ],
      "text/plain": [
       "                  Município     ibge  latitude  longitude  Taxa Distorção\n",
       "490   Vista Alegre do Prata  4323606  -28.8052   -51.7946             2.6\n",
       "375  Santo Antônio do Palma  4317558  -28.4956   -52.0267             4.3\n",
       "28                    Áurea  4301552  -27.6936   -52.0505             5.8\n",
       "268       Nicolau Vergueiro  4312674  -28.5298   -52.4676             7.0\n",
       "128              Derrubadas  4306320  -27.2642   -53.8645             7.4\n",
       "119                Cotiporã  4305959  -28.9891   -51.6971             7.5\n",
       "68       Campestre da Serra  4303673  -28.7926   -51.0941             7.6\n",
       "476                  Vanini  4322558  -28.4758   -51.8447             7.8\n",
       "236              Linha Nova  4311643  -29.4679   -51.2003             8.0\n",
       "392    São José do Inhacorá  4318499  -27.7251   -54.1275             8.0"
      ]
     },
     "execution_count": 20,
     "metadata": {},
     "output_type": "execute_result"
    }
   ],
   "source": [
    "# 10 municipios com menonores taxa de distorção e 10 com maiores taxas de distroção\n",
    "\n",
    "df.nsmallest(10, 'Taxa Distorção')"
   ]
  },
  {
   "cell_type": "code",
   "execution_count": 21,
   "metadata": {},
   "outputs": [
    {
     "data": {
      "text/html": [
       "<div>\n",
       "<style scoped>\n",
       "    .dataframe tbody tr th:only-of-type {\n",
       "        vertical-align: middle;\n",
       "    }\n",
       "\n",
       "    .dataframe tbody tr th {\n",
       "        vertical-align: top;\n",
       "    }\n",
       "\n",
       "    .dataframe thead th {\n",
       "        text-align: right;\n",
       "    }\n",
       "</style>\n",
       "<table border=\"1\" class=\"dataframe\">\n",
       "  <thead>\n",
       "    <tr style=\"text-align: right;\">\n",
       "      <th></th>\n",
       "      <th>Município</th>\n",
       "      <th>ibge</th>\n",
       "      <th>latitude</th>\n",
       "      <th>longitude</th>\n",
       "      <th>Taxa Distorção</th>\n",
       "    </tr>\n",
       "  </thead>\n",
       "  <tbody>\n",
       "    <tr>\n",
       "      <th>307</th>\n",
       "      <td>Pedras Altas</td>\n",
       "      <td>4314175</td>\n",
       "      <td>-31.7217</td>\n",
       "      <td>-53.5838</td>\n",
       "      <td>56.0</td>\n",
       "    </tr>\n",
       "    <tr>\n",
       "      <th>316</th>\n",
       "      <td>Pinheiro Machado</td>\n",
       "      <td>4314506</td>\n",
       "      <td>-31.5794</td>\n",
       "      <td>-53.3798</td>\n",
       "      <td>53.9</td>\n",
       "    </tr>\n",
       "    <tr>\n",
       "      <th>17</th>\n",
       "      <td>Arambaré</td>\n",
       "      <td>4300851</td>\n",
       "      <td>-30.9093</td>\n",
       "      <td>-51.5046</td>\n",
       "      <td>52.8</td>\n",
       "    </tr>\n",
       "    <tr>\n",
       "      <th>140</th>\n",
       "      <td>Eldorado do Sul</td>\n",
       "      <td>4306767</td>\n",
       "      <td>-30.0847</td>\n",
       "      <td>-51.6187</td>\n",
       "      <td>51.9</td>\n",
       "    </tr>\n",
       "    <tr>\n",
       "      <th>35</th>\n",
       "      <td>Barra do Quaraí</td>\n",
       "      <td>4301875</td>\n",
       "      <td>-30.2029</td>\n",
       "      <td>-57.5497</td>\n",
       "      <td>51.5</td>\n",
       "    </tr>\n",
       "    <tr>\n",
       "      <th>393</th>\n",
       "      <td>São José do Norte</td>\n",
       "      <td>4318507</td>\n",
       "      <td>-32.0151</td>\n",
       "      <td>-52.0331</td>\n",
       "      <td>49.4</td>\n",
       "    </tr>\n",
       "    <tr>\n",
       "      <th>413</th>\n",
       "      <td>São Valério do Sul</td>\n",
       "      <td>4319737</td>\n",
       "      <td>-27.7906</td>\n",
       "      <td>-53.9368</td>\n",
       "      <td>49.2</td>\n",
       "    </tr>\n",
       "    <tr>\n",
       "      <th>193</th>\n",
       "      <td>Hulha Negra</td>\n",
       "      <td>4309654</td>\n",
       "      <td>-31.4067</td>\n",
       "      <td>-53.8667</td>\n",
       "      <td>49.0</td>\n",
       "    </tr>\n",
       "    <tr>\n",
       "      <th>106</th>\n",
       "      <td>Chuí</td>\n",
       "      <td>4305439</td>\n",
       "      <td>-33.6866</td>\n",
       "      <td>-53.4594</td>\n",
       "      <td>48.6</td>\n",
       "    </tr>\n",
       "    <tr>\n",
       "      <th>233</th>\n",
       "      <td>Lavras do Sul</td>\n",
       "      <td>4311502</td>\n",
       "      <td>-30.8071</td>\n",
       "      <td>-53.8931</td>\n",
       "      <td>47.7</td>\n",
       "    </tr>\n",
       "  </tbody>\n",
       "</table>\n",
       "</div>"
      ],
      "text/plain": [
       "              Município     ibge  latitude  longitude  Taxa Distorção\n",
       "307        Pedras Altas  4314175  -31.7217   -53.5838            56.0\n",
       "316    Pinheiro Machado  4314506  -31.5794   -53.3798            53.9\n",
       "17             Arambaré  4300851  -30.9093   -51.5046            52.8\n",
       "140     Eldorado do Sul  4306767  -30.0847   -51.6187            51.9\n",
       "35      Barra do Quaraí  4301875  -30.2029   -57.5497            51.5\n",
       "393   São José do Norte  4318507  -32.0151   -52.0331            49.4\n",
       "413  São Valério do Sul  4319737  -27.7906   -53.9368            49.2\n",
       "193         Hulha Negra  4309654  -31.4067   -53.8667            49.0\n",
       "106                Chuí  4305439  -33.6866   -53.4594            48.6\n",
       "233       Lavras do Sul  4311502  -30.8071   -53.8931            47.7"
      ]
     },
     "execution_count": 21,
     "metadata": {},
     "output_type": "execute_result"
    }
   ],
   "source": [
    "df.nlargest(10, 'Taxa Distorção')"
   ]
  },
  {
   "cell_type": "code",
   "execution_count": 22,
   "metadata": {},
   "outputs": [
    {
     "data": {
      "text/plain": [
       "<matplotlib.axes._subplots.AxesSubplot at 0x2292e380c50>"
      ]
     },
     "execution_count": 22,
     "metadata": {},
     "output_type": "execute_result"
    },
    {
     "data": {
      "image/png": "[encoded data removed]",
      "text/plain": [
       "<Figure size 432x288 with 1 Axes>"
      ]
     },
     "metadata": {
      "needs_background": "light"
     },
     "output_type": "display_data"
    }
   ],
   "source": [
    "# Plotando um histograma da taxa de distorção\n",
    "\n",
    "df['Taxa Distorção'].plot.hist(bins=100)"
   ]
  },
  {
   "cell_type": "code",
   "execution_count": 31,
   "metadata": {},
   "outputs": [
    {
     "data": {
      "text/html": [
       "<div>\n",
       "<style scoped>\n",
       "    .dataframe tbody tr th:only-of-type {\n",
       "        vertical-align: middle;\n",
       "    }\n",
       "\n",
       "    .dataframe tbody tr th {\n",
       "        vertical-align: top;\n",
       "    }\n",
       "\n",
       "    .dataframe thead th {\n",
       "        text-align: right;\n",
       "    }\n",
       "</style>\n",
       "<table border=\"1\" class=\"dataframe\">\n",
       "  <thead>\n",
       "    <tr style=\"text-align: right;\">\n",
       "      <th></th>\n",
       "      <th>Município</th>\n",
       "      <th>ibge</th>\n",
       "      <th>latitude</th>\n",
       "      <th>longitude</th>\n",
       "      <th>Taxa Distorção</th>\n",
       "    </tr>\n",
       "  </thead>\n",
       "  <tbody>\n",
       "    <tr>\n",
       "      <th>28</th>\n",
       "      <td>Áurea</td>\n",
       "      <td>4301552</td>\n",
       "      <td>-27.6936</td>\n",
       "      <td>-52.0505</td>\n",
       "      <td>5.8</td>\n",
       "    </tr>\n",
       "    <tr>\n",
       "      <th>47</th>\n",
       "      <td>Boa Vista do Sul</td>\n",
       "      <td>4302253</td>\n",
       "      <td>-29.3544</td>\n",
       "      <td>-51.6687</td>\n",
       "      <td>9.6</td>\n",
       "    </tr>\n",
       "    <tr>\n",
       "      <th>68</th>\n",
       "      <td>Campestre da Serra</td>\n",
       "      <td>4303673</td>\n",
       "      <td>-28.7926</td>\n",
       "      <td>-51.0941</td>\n",
       "      <td>7.6</td>\n",
       "    </tr>\n",
       "    <tr>\n",
       "      <th>69</th>\n",
       "      <td>Campina das Missões</td>\n",
       "      <td>4303707</td>\n",
       "      <td>-27.9888</td>\n",
       "      <td>-54.8417</td>\n",
       "      <td>8.8</td>\n",
       "    </tr>\n",
       "    <tr>\n",
       "      <th>119</th>\n",
       "      <td>Cotiporã</td>\n",
       "      <td>4305959</td>\n",
       "      <td>-28.9891</td>\n",
       "      <td>-51.6971</td>\n",
       "      <td>7.5</td>\n",
       "    </tr>\n",
       "    <tr>\n",
       "      <th>128</th>\n",
       "      <td>Derrubadas</td>\n",
       "      <td>4306320</td>\n",
       "      <td>-27.2642</td>\n",
       "      <td>-53.8645</td>\n",
       "      <td>7.4</td>\n",
       "    </tr>\n",
       "    <tr>\n",
       "      <th>133</th>\n",
       "      <td>Dois Lajeados</td>\n",
       "      <td>4306452</td>\n",
       "      <td>-28.9830</td>\n",
       "      <td>-51.8396</td>\n",
       "      <td>9.9</td>\n",
       "    </tr>\n",
       "    <tr>\n",
       "      <th>236</th>\n",
       "      <td>Linha Nova</td>\n",
       "      <td>4311643</td>\n",
       "      <td>-29.4679</td>\n",
       "      <td>-51.2003</td>\n",
       "      <td>8.0</td>\n",
       "    </tr>\n",
       "    <tr>\n",
       "      <th>268</th>\n",
       "      <td>Nicolau Vergueiro</td>\n",
       "      <td>4312674</td>\n",
       "      <td>-28.5298</td>\n",
       "      <td>-52.4676</td>\n",
       "      <td>7.0</td>\n",
       "    </tr>\n",
       "    <tr>\n",
       "      <th>274</th>\n",
       "      <td>Nova Bréscia</td>\n",
       "      <td>4313003</td>\n",
       "      <td>-29.2182</td>\n",
       "      <td>-52.0319</td>\n",
       "      <td>10.0</td>\n",
       "    </tr>\n",
       "    <tr>\n",
       "      <th>330</th>\n",
       "      <td>Pouso Novo</td>\n",
       "      <td>4315131</td>\n",
       "      <td>-29.1738</td>\n",
       "      <td>-52.2136</td>\n",
       "      <td>9.8</td>\n",
       "    </tr>\n",
       "    <tr>\n",
       "      <th>357</th>\n",
       "      <td>Salvador das Missões</td>\n",
       "      <td>4316477</td>\n",
       "      <td>-28.1233</td>\n",
       "      <td>-54.8373</td>\n",
       "      <td>9.6</td>\n",
       "    </tr>\n",
       "    <tr>\n",
       "      <th>375</th>\n",
       "      <td>Santo Antônio do Palma</td>\n",
       "      <td>4317558</td>\n",
       "      <td>-28.4956</td>\n",
       "      <td>-52.0267</td>\n",
       "      <td>4.3</td>\n",
       "    </tr>\n",
       "    <tr>\n",
       "      <th>379</th>\n",
       "      <td>Santo Expedito do Sul</td>\n",
       "      <td>4317954</td>\n",
       "      <td>-27.9074</td>\n",
       "      <td>-51.6433</td>\n",
       "      <td>9.2</td>\n",
       "    </tr>\n",
       "    <tr>\n",
       "      <th>392</th>\n",
       "      <td>São José do Inhacorá</td>\n",
       "      <td>4318499</td>\n",
       "      <td>-27.7251</td>\n",
       "      <td>-54.1275</td>\n",
       "      <td>8.0</td>\n",
       "    </tr>\n",
       "    <tr>\n",
       "      <th>476</th>\n",
       "      <td>Vanini</td>\n",
       "      <td>4322558</td>\n",
       "      <td>-28.4758</td>\n",
       "      <td>-51.8447</td>\n",
       "      <td>7.8</td>\n",
       "    </tr>\n",
       "    <tr>\n",
       "      <th>490</th>\n",
       "      <td>Vista Alegre do Prata</td>\n",
       "      <td>4323606</td>\n",
       "      <td>-28.8052</td>\n",
       "      <td>-51.7946</td>\n",
       "      <td>2.6</td>\n",
       "    </tr>\n",
       "  </tbody>\n",
       "</table>\n",
       "</div>"
      ],
      "text/plain": [
       "                  Município     ibge  latitude  longitude  Taxa Distorção\n",
       "28                    Áurea  4301552  -27.6936   -52.0505             5.8\n",
       "47         Boa Vista do Sul  4302253  -29.3544   -51.6687             9.6\n",
       "68       Campestre da Serra  4303673  -28.7926   -51.0941             7.6\n",
       "69      Campina das Missões  4303707  -27.9888   -54.8417             8.8\n",
       "119                Cotiporã  4305959  -28.9891   -51.6971             7.5\n",
       "128              Derrubadas  4306320  -27.2642   -53.8645             7.4\n",
       "133           Dois Lajeados  4306452  -28.9830   -51.8396             9.9\n",
       "236              Linha Nova  4311643  -29.4679   -51.2003             8.0\n",
       "268       Nicolau Vergueiro  4312674  -28.5298   -52.4676             7.0\n",
       "274            Nova Bréscia  4313003  -29.2182   -52.0319            10.0\n",
       "330              Pouso Novo  4315131  -29.1738   -52.2136             9.8\n",
       "357    Salvador das Missões  4316477  -28.1233   -54.8373             9.6\n",
       "375  Santo Antônio do Palma  4317558  -28.4956   -52.0267             4.3\n",
       "379   Santo Expedito do Sul  4317954  -27.9074   -51.6433             9.2\n",
       "392    São José do Inhacorá  4318499  -27.7251   -54.1275             8.0\n",
       "476                  Vanini  4322558  -28.4758   -51.8447             7.8\n",
       "490   Vista Alegre do Prata  4323606  -28.8052   -51.7946             2.6"
      ]
     },
     "execution_count": 31,
     "metadata": {},
     "output_type": "execute_result"
    }
   ],
   "source": [
    "# Quantidade de municipio com taxa menor ou igual a 10\n",
    "\n",
    "df[df['Taxa Distorção']<= 10].head(20)"
   ]
  },
  {
   "cell_type": "code",
   "execution_count": 32,
   "metadata": {},
   "outputs": [
    {
     "data": {
      "text/plain": [
       "Município         17\n",
       "ibge              17\n",
       "latitude          17\n",
       "longitude         17\n",
       "Taxa Distorção    17\n",
       "dtype: int64"
      ]
     },
     "execution_count": 32,
     "metadata": {},
     "output_type": "execute_result"
    }
   ],
   "source": [
    "# Quantidade de municipio com taxa maior ou igual a 50\n",
    "\n",
    "\n",
    "df[df['Taxa Distorção']>= 45].count()"
   ]
  },
  {
   "cell_type": "code",
   "execution_count": 34,
   "metadata": {},
   "outputs": [],
   "source": [
    "# Como o Folium funciona\n",
    "\n",
    "# Criar um mapa com base em uma coordenada central\n",
    "brasil = folium.Map(location=[-13.6987718, -69.7391073], zoom_start=4)"
   ]
  },
  {
   "cell_type": "code",
   "execution_count": 36,
   "metadata": {},
   "outputs": [
    {
     "data": {
      "text/html": [
       "<div style=\"width:100%;\"><div style=\"position:relative;width:100%;height:0;padding-bottom:60%;\"><iframe src=\"data:text/html;charset=utf-8;base64,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\" style=\"position:absolute;width:100%;height:100%;left:0;top:0;border:none !important;\" allowfullscreen webkitallowfullscreen mozallowfullscreen></iframe></div></div>"
      ],
      "text/plain": [
       "<folium.folium.Map at 0x2292e7df1d0>"
      ]
     },
     "execution_count": 36,
     "metadata": {},
     "output_type": "execute_result"
    }
   ],
   "source": [
    "brasil"
   ]
  },
  {
   "cell_type": "code",
   "execution_count": 43,
   "metadata": {},
   "outputs": [
    {
     "data": {
      "text/html": [
       "<div style=\"width:100%;\"><div style=\"position:relative;width:100%;height:0;padding-bottom:60%;\"><iframe src=\"data:text/html;charset=utf-8;base64,PCFET0NUWVBFIGh0bWw+CjxoZWFkPiAgICAKICAgIDxtZXRhIGh0dHAtZXF1aXY9ImNvbnRlbnQtdHlwZSIgY29udGVudD0idGV4dC9odG1sOyBjaGFyc2V0PVVURi04IiAvPgogICAgCiAgICAgICAgPHNjcmlwdD4KICAgICAgICAgICAgTF9OT19UT1VDSCA9IGZhbHNlOwogICAgICAgICAgICBMX0RJU0FCTEVfM0QgPSBmYWxzZTsKICAgICAgICA8L3NjcmlwdD4KICAgIAogICAgPHNjcmlwdCBzcmM9Imh0dHBzOi8vY2RuLmpzZGVsaXZyLm5ldC9ucG0vbGVhZmxldEAxLjUuMS9kaXN0L2xlYWZsZXQuanMiPjwvc2NyaXB0PgogICAgPHNjcmlwdCBzcmM9Imh0dHBzOi8vY29kZS5qcXVlcnkuY29tL2pxdWVyeS0xLjEyLjQubWluLmpzIj48L3NjcmlwdD4KICAgIDxzY3JpcHQgc3JjPSJodHRwczovL21heGNkbi5ib290c3RyYXBjZG4uY29tL2Jvb3RzdHJhcC8zLjIuMC9qcy9ib290c3RyYXAubWluLmpzIj48L3NjcmlwdD4KICAgIDxzY3JpcHQgc3JjPSJodHRwczovL2NkbmpzLmNsb3VkZmxhcmUuY29tL2FqYXgvbGlicy9MZWFmbGV0LmF3ZXNvbWUtbWFya2Vycy8yLjAuMi9sZWFmbGV0LmF3ZXNvbWUtbWFya2Vycy5qcyI+PC9zY3JpcHQ+CiAgICA8bGluayByZWw9InN0eWxlc2hlZXQiIGhyZWY9Imh0dHBzOi8vY2RuLmpzZGVsaXZyLm5ldC9ucG0vbGVhZmxldEAxLjUuMS9kaXN0L2xlYWZsZXQuY3NzIi8+CiAgICA8bGluayByZWw9InN0eWxlc2hlZXQiIGhyZWY9Imh0dHBzOi8vbWF4Y2RuLmJvb3RzdHJhcGNkbi5jb20vYm9vdHN0cmFwLzMuMi4wL2Nzcy9ib290c3RyYXAubWluLmNzcyIvPgogICAgPGxpbmsgcmVsPSJzdHlsZXNoZWV0IiBocmVmPSJodHRwczovL21heGNkbi5ib290c3RyYXBjZG4uY29tL2Jvb3RzdHJhcC8zLjIuMC9jc3MvYm9vdHN0cmFwLXRoZW1lLm1pbi5jc3MiLz4KICAgIDxsaW5rIHJlbD0ic3R5bGVzaGVldCIgaHJlZj0iaHR0cHM6Ly9tYXhjZG4uYm9vdHN0cmFwY2RuLmNvbS9mb250LWF3ZXNvbWUvNC42LjMvY3NzL2ZvbnQtYXdlc29tZS5taW4uY3NzIi8+CiAgICA8bGluayByZWw9InN0eWxlc2hlZXQiIGhyZWY9Imh0dHBzOi8vY2RuanMuY2xvdWRmbGFyZS5jb20vYWpheC9saWJzL0xlYWZsZXQuYXdlc29tZS1tYXJrZXJzLzIuMC4yL2xlYWZsZXQuYXdlc29tZS1tYXJrZXJzLmNzcyIvPgogICAgPGxpbmsgcmVsPSJzdHlsZXNoZWV0IiBocmVmPSJodHRwczovL3Jhd2Nkbi5naXRoYWNrLmNvbS9weXRob24tdmlzdWFsaXphdGlvbi9mb2xpdW0vbWFzdGVyL2ZvbGl1bS90ZW1wbGF0ZXMvbGVhZmxldC5hd2Vzb21lLnJvdGF0ZS5jc3MiLz4KICAgIDxzdHlsZT5odG1sLCBib2R5IHt3aWR0aDogMTAwJTtoZWlnaHQ6IDEwMCU7bWFyZ2luOiAwO3BhZGRpbmc6IDA7fTwvc3R5bGU+CiAgICA8c3R5bGU+I21hcCB7cG9zaXRpb246YWJzb2x1dGU7dG9wOjA7Ym90dG9tOjA7cmlnaHQ6MDtsZWZ0OjA7fTwvc3R5bGU+CiAgICAKICAgICAgICAgICAgPG1ldGEgbmFtZT0idmlld3BvcnQiIGNvbnRlbnQ9IndpZHRoPWRldmljZS13aWR0aCwKICAgICAgICAgICAgICAgIGluaXRpYWwtc2NhbGU9MS4wLCBtYXhpbXVtLXNjYWxlPTEuMCwgdXNlci1zY2FsYWJsZT1ubyIgLz4KICAgICAgICAgICAgPHN0eWxlPgogICAgICAgICAgICAgICAgI21hcF9kYTg1MDM1ODM4Nzc0NmM1ODIzOWQ3ZDI5MDdhNGFiMyB7CiAgICAgICAgICAgICAgICAgICAgcG9zaXRpb246IHJlbGF0aXZlOwogICAgICAgICAgICAgICAgICAgIHdpZHRoOiAxMDAuMCU7CiAgICAgICAgICAgICAgICAgICAgaGVpZ2h0OiAxMDAuMCU7CiAgICAgICAgICAgICAgICAgICAgbGVmdDogMC4wJTsKICAgICAgICAgICAgICAgICAgICB0b3A6IDAuMCU7CiAgICAgICAgICAgICAgICB9CiAgICAgICAgICAgIDwvc3R5bGU+CiAgICAgICAgCjwvaGVhZD4KPGJvZHk+ICAgIAogICAgCiAgICAgICAgICAgIDxkaXYgY2xhc3M9ImZvbGl1bS1tYXAiIGlkPSJtYXBfZGE4NTAzNTgzODc3NDZjNTgyMzlkN2QyOTA3YTRhYjMiID48L2Rpdj4KICAgICAgICAKPC9ib2R5Pgo8c2NyaXB0PiAgICAKICAgIAogICAgICAgICAgICB2YXIgbWFwX2RhODUwMzU4Mzg3NzQ2YzU4MjM5ZDdkMjkwN2E0YWIzID0gTC5tYXAoCiAgICAgICAgICAgICAgICAibWFwX2RhODUwMzU4Mzg3NzQ2YzU4MjM5ZDdkMjkwN2E0YWIzIiwKICAgICAgICAgICAgICAgIHsKICAgICAgICAgICAgICAgICAgICBjZW50ZXI6IFstMzAuMTIxNDMzLCAtNTQuNzE1OTg3OF0sCiAgICAgICAgICAgICAgICAgICAgY3JzOiBMLkNSUy5FUFNHMzg1NywKICAgICAgICAgICAgICAgICAgICB6b29tOiA3LAogICAgICAgICAgICAgICAgICAgIHpvb21Db250cm9sOiB0cnVlLAogICAgICAgICAgICAgICAgICAgIHByZWZlckNhbnZhczogZmFsc2UsCiAgICAgICAgICAgICAgICB9CiAgICAgICAgICAgICk7CgogICAgICAgICAgICAKCiAgICAgICAgCiAgICAKICAgICAgICAgICAgdmFyIHRpbGVfbGF5ZXJfOTRhOTdjYjI5ZWQwNGIwYTk2ZDA3ZWVmZjk2ZjlhY2EgPSBMLnRpbGVMYXllcigKICAgICAgICAgICAgICAgICJodHRwczovL3tzfS50aWxlLm9wZW5zdHJlZXRtYXAub3JnL3t6fS97eH0ve3l9LnBuZyIsCiAgICAgICAgICAgICAgICB7ImF0dHJpYnV0aW9uIjogIkRhdGEgYnkgXHUwMDI2Y29weTsgXHUwMDNjYSBocmVmPVwiaHR0cDovL29wZW5zdHJlZXRtYXAub3JnXCJcdTAwM2VPcGVuU3RyZWV0TWFwXHUwMDNjL2FcdTAwM2UsIHVuZGVyIFx1MDAzY2EgaHJlZj1cImh0dHA6Ly93d3cub3BlbnN0cmVldG1hcC5vcmcvY29weXJpZ2h0XCJcdTAwM2VPRGJMXHUwMDNjL2FcdTAwM2UuIiwgImRldGVjdFJldGluYSI6IGZhbHNlLCAibWF4TmF0aXZlWm9vbSI6IDE4LCAibWF4Wm9vbSI6IDE4LCAibWluWm9vbSI6IDAsICJub1dyYXAiOiBmYWxzZSwgIm9wYWNpdHkiOiAxLCAic3ViZG9tYWlucyI6ICJhYmMiLCAidG1zIjogZmFsc2V9CiAgICAgICAgICAgICkuYWRkVG8obWFwX2RhODUwMzU4Mzg3NzQ2YzU4MjM5ZDdkMjkwN2E0YWIzKTsKICAgICAgICAKPC9zY3JpcHQ+\" style=\"position:absolute;width:100%;height:100%;left:0;top:0;border:none !important;\" allowfullscreen webkitallowfullscreen mozallowfullscreen></iframe></div></div>"
      ],
      "text/plain": [
       "<folium.folium.Map at 0x2292ea255c0>"
      ]
     },
     "execution_count": 43,
     "metadata": {},
     "output_type": "execute_result"
    }
   ],
   "source": [
    "# Criar um mapa do Rio Grande do Sul\n",
    "\n",
    "rs = folium.Map(location=[-30.121433,-54.7159878], zoom_start=7)\n",
    "\n",
    "rs"
   ]
  },
  {
   "cell_type": "code",
   "execution_count": 45,
   "metadata": {},
   "outputs": [
    {
     "data": {
      "text/html": [
       "<div style=\"width:100%;\"><div style=\"position:relative;width:100%;height:0;padding-bottom:60%;\"><iframe src=\"data:text/html;charset=utf-8;base64,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\" style=\"position:absolute;width:100%;height:100%;left:0;top:0;border:none !important;\" allowfullscreen webkitallowfullscreen mozallowfullscreen></iframe></div></div>"
      ],
      "text/plain": [
       "<folium.folium.Map at 0x2292ea255c0>"
      ]
     },
     "execution_count": 45,
     "metadata": {},
     "output_type": "execute_result"
    }
   ],
   "source": [
    "# Percorrer o Dataframe com base na 'Taxa Distorção <= 10' e desenhar um marcador para cada escola\n",
    "\n",
    "# Usamos o for e iterrows\n",
    "\n",
    "for indice, municipio in df[df['Taxa Distorção'] <= 10].iterrows(): \n",
    "    folium.Marker(\n",
    "        location=[municipio['latitude'], municipio['longitude']], \n",
    "        popup=municipio['Município'], icon=folium.map.Icon(color='green')).add_to(rs)\n",
    "\n",
    "    \n",
    "rs\n"
   ]
  },
  {
   "cell_type": "code",
   "execution_count": 48,
   "metadata": {},
   "outputs": [
    {
     "data": {
      "text/html": [
       "<div style=\"width:100%;\"><div style=\"position:relative;width:100%;height:0;padding-bottom:60%;\"><iframe src=\"data:text/html;charset=utf-8;base64,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\" style=\"position:absolute;width:100%;height:100%;left:0;top:0;border:none !important;\" allowfullscreen webkitallowfullscreen mozallowfullscreen></iframe></div></div>"
      ],
      "text/plain": [
       "<folium.folium.Map at 0x2292ea255c0>"
      ]
     },
     "execution_count": 48,
     "metadata": {},
     "output_type": "execute_result"
    }
   ],
   "source": [
    "# Percorrer o Dataframe com base na 'Taxa Distorção >= 45' e desenhar um marcador para cada escola\n",
    "\n",
    "# Usamos o for e iterrows\n",
    "\n",
    "for indice, municipio in df[df['Taxa Distorção'] >= 45].iterrows(): \n",
    "    folium.Marker(\n",
    "        location=[municipio['latitude'], municipio['longitude']], \n",
    "        popup=municipio['Município'], icon=folium.map.Icon(color='red')).add_to(rs)\n",
    "    \n",
    "rs"
   ]
  },
  {
   "cell_type": "code",
   "execution_count": 51,
   "metadata": {},
   "outputs": [
    {
     "data": {
      "text/plain": [
       "325    32.3\n",
       "Name: Taxa Distorção, dtype: float64"
      ]
     },
     "execution_count": 51,
     "metadata": {},
     "output_type": "execute_result"
    }
   ],
   "source": [
    "# Qual a taxa de distorção de uma determinada cidade ( Porto Alegre)\n",
    "\n",
    "df[df['Município']=='Porto Alegre']['Taxa Distorção']"
   ]
  },
  {
   "cell_type": "code",
   "execution_count": null,
   "metadata": {},
   "outputs": [],
   "source": []
  }
 ],
 "metadata": {
  "kernelspec": {
   "display_name": "Python 3",
   "language": "python",
   "name": "python3"
  },
  "language_info": {
   "codemirror_mode": {
    "name": "ipython",
    "version": 3
   },
   "file_extension": ".py",
   "mimetype": "text/x-python",
   "name": "python",
   "nbconvert_exporter": "python",
   "pygments_lexer": "ipython3",
   "version": "3.7.3"
  }
 },
 "nbformat": 4,
 "nbformat_minor": 2
}
